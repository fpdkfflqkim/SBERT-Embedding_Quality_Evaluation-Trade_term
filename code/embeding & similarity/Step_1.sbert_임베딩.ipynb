{
 "cells": [
  {
   "cell_type": "code",
   "execution_count": 12,
   "metadata": {},
   "outputs": [],
   "source": [
    "import pandas as pd"
   ]
  },
  {
   "cell_type": "code",
   "execution_count": 13,
   "metadata": {},
   "outputs": [],
   "source": [
    "import numpy as np"
   ]
  },
  {
   "cell_type": "code",
   "execution_count": 14,
   "metadata": {},
   "outputs": [],
   "source": [
    "from sentence_transformers import SentenceTransformer, util\n",
    "model = SentenceTransformer('snunlp/KR-SBERT-V40K-klueNLI-augSTS') "
   ]
  },
  {
   "cell_type": "code",
   "execution_count": 15,
   "metadata": {},
   "outputs": [],
   "source": [
    "df = pd.read_excel(r\"C:\\Users\\user\\Desktop\\학술대회 2차\\데이터\\관세용어사전_길이순.xlsx\")"
   ]
  },
  {
   "cell_type": "code",
   "execution_count": 16,
   "metadata": {},
   "outputs": [
    {
     "data": {
      "text/html": [
       "<div>\n",
       "<style scoped>\n",
       "    .dataframe tbody tr th:only-of-type {\n",
       "        vertical-align: middle;\n",
       "    }\n",
       "\n",
       "    .dataframe tbody tr th {\n",
       "        vertical-align: top;\n",
       "    }\n",
       "\n",
       "    .dataframe thead th {\n",
       "        text-align: right;\n",
       "    }\n",
       "</style>\n",
       "<table border=\"1\" class=\"dataframe\">\n",
       "  <thead>\n",
       "    <tr style=\"text-align: right;\">\n",
       "      <th></th>\n",
       "      <th>Unnamed: 0</th>\n",
       "      <th>단어이름</th>\n",
       "      <th>단어 설명</th>\n",
       "    </tr>\n",
       "  </thead>\n",
       "  <tbody>\n",
       "    <tr>\n",
       "      <th>0</th>\n",
       "      <td>0</td>\n",
       "      <td>수입화물대도</td>\n",
       "      <td>일람불신용장거래 추심결제방식의 거래에서 수입자가 수입어음대금을 결제하기 전이라도 선...</td>\n",
       "    </tr>\n",
       "    <tr>\n",
       "      <th>1</th>\n",
       "      <td>1</td>\n",
       "      <td>지정신용장</td>\n",
       "      <td>신용장상에 지급 인수 매입 등을 담당할 특정은행의 명칭을 미리 지정해 놓은 신용장을...</td>\n",
       "    </tr>\n",
       "    <tr>\n",
       "      <th>2</th>\n",
       "      <td>2</td>\n",
       "      <td>선하증권</td>\n",
       "      <td>화물이 본선에 적재되었음을 증명하는 서류로서 법적으로 화물 그 자체를 대표하는 양도...</td>\n",
       "    </tr>\n",
       "    <tr>\n",
       "      <th>3</th>\n",
       "      <td>3</td>\n",
       "      <td>조회</td>\n",
       "      <td>라고도 함 수입업자가 조회서한을 보낸 때에는 통상 수입희망품목의 가격 수량 선적시기...</td>\n",
       "    </tr>\n",
       "    <tr>\n",
       "      <th>4</th>\n",
       "      <td>4</td>\n",
       "      <td>특정성</td>\n",
       "      <td>보조금 및 상계조치에 관한 협정에서 사용되는 개념으로 어떤 보조금이 특정성이 있는 ...</td>\n",
       "    </tr>\n",
       "    <tr>\n",
       "      <th>...</th>\n",
       "      <td>...</td>\n",
       "      <td>...</td>\n",
       "      <td>...</td>\n",
       "    </tr>\n",
       "    <tr>\n",
       "      <th>595</th>\n",
       "      <td>595</td>\n",
       "      <td>사정 평가</td>\n",
       "      <td>조사심사하여 결정하는 것</td>\n",
       "    </tr>\n",
       "    <tr>\n",
       "      <th>596</th>\n",
       "      <td>596</td>\n",
       "      <td>습득물</td>\n",
       "      <td>잃어버린 물건 찾아주기</td>\n",
       "    </tr>\n",
       "    <tr>\n",
       "      <th>597</th>\n",
       "      <td>597</td>\n",
       "      <td>유한책임</td>\n",
       "      <td>채무자의 제한된 책임</td>\n",
       "    </tr>\n",
       "    <tr>\n",
       "      <th>598</th>\n",
       "      <td>598</td>\n",
       "      <td>행정절차법</td>\n",
       "      <td>행정절차에 관한 법률</td>\n",
       "    </tr>\n",
       "    <tr>\n",
       "      <th>599</th>\n",
       "      <td>599</td>\n",
       "      <td>개방경제</td>\n",
       "      <td>무역제한이 없는 경제</td>\n",
       "    </tr>\n",
       "  </tbody>\n",
       "</table>\n",
       "<p>600 rows × 3 columns</p>\n",
       "</div>"
      ],
      "text/plain": [
       "     Unnamed: 0    단어이름                                              단어 설명\n",
       "0             0  수입화물대도  일람불신용장거래 추심결제방식의 거래에서 수입자가 수입어음대금을 결제하기 전이라도 선...\n",
       "1             1   지정신용장  신용장상에 지급 인수 매입 등을 담당할 특정은행의 명칭을 미리 지정해 놓은 신용장을...\n",
       "2             2    선하증권  화물이 본선에 적재되었음을 증명하는 서류로서 법적으로 화물 그 자체를 대표하는 양도...\n",
       "3             3      조회  라고도 함 수입업자가 조회서한을 보낸 때에는 통상 수입희망품목의 가격 수량 선적시기...\n",
       "4             4     특정성  보조금 및 상계조치에 관한 협정에서 사용되는 개념으로 어떤 보조금이 특정성이 있는 ...\n",
       "..          ...     ...                                                ...\n",
       "595         595   사정 평가                                      조사심사하여 결정하는 것\n",
       "596         596     습득물                                       잃어버린 물건 찾아주기\n",
       "597         597    유한책임                                        채무자의 제한된 책임\n",
       "598         598   행정절차법                                        행정절차에 관한 법률\n",
       "599         599    개방경제                                        무역제한이 없는 경제\n",
       "\n",
       "[600 rows x 3 columns]"
      ]
     },
     "execution_count": 16,
     "metadata": {},
     "output_type": "execute_result"
    }
   ],
   "source": [
    "df"
   ]
  },
  {
   "cell_type": "code",
   "execution_count": 7,
   "metadata": {},
   "outputs": [],
   "source": [
    "# #길이순으로 쪼개기\n",
    "# df_high = df[:200]\n",
    "# df_middle = df[200:400]\n",
    "# df_low = df[400:600]"
   ]
  },
  {
   "cell_type": "code",
   "execution_count": 8,
   "metadata": {},
   "outputs": [],
   "source": [
    "# df_high = df_high.reset_index(drop=True)\n",
    "# df_middle = df_middle.reset_index(drop=True)\n",
    "# df_low = df_low.reset_index(drop=True)"
   ]
  },
  {
   "cell_type": "code",
   "execution_count": 9,
   "metadata": {},
   "outputs": [
    {
     "data": {
      "text/plain": [
       "Index(['Unnamed: 0', '단어이름', '단어 설명'], dtype='object')"
      ]
     },
     "execution_count": 9,
     "metadata": {},
     "output_type": "execute_result"
    }
   ],
   "source": [
    "df.columns"
   ]
  },
  {
   "cell_type": "code",
   "execution_count": 70,
   "metadata": {},
   "outputs": [],
   "source": [
    "# word_high = model.encode(df_high['단어이름'][:])\n",
    "# description_high = model.encode(df_high['단어 설명'][:])"
   ]
  },
  {
   "cell_type": "code",
   "execution_count": 71,
   "metadata": {},
   "outputs": [],
   "source": [
    "# word_middle = model.encode(df_middle['단어이름'][:])\n",
    "# description_middle = model.encode(df_middle['단어 설명'][:])"
   ]
  },
  {
   "cell_type": "code",
   "execution_count": 10,
   "metadata": {},
   "outputs": [],
   "source": [
    "# word_low = model.encode(df_low['단어이름'][:])\n",
    "# description_low = model.encode(df_low['단어 설명'][:])"
   ]
  },
  {
   "cell_type": "code",
   "execution_count": 73,
   "metadata": {},
   "outputs": [],
   "source": [
    "# np.save(r'C:\\Users\\user\\Desktop\\학술대회 2차\\벡터\\sbert_voc_high.npy', word_high)\n",
    "# np.save(r'C:\\Users\\user\\Desktop\\학술대회 2차\\벡터\\sbert_sen_high.npy', description_high)"
   ]
  },
  {
   "cell_type": "code",
   "execution_count": 74,
   "metadata": {},
   "outputs": [],
   "source": [
    "# np.save(r'C:\\Users\\user\\Desktop\\학술대회 2차\\벡터\\sbert_voc_middle.npy', word_middle)\n",
    "# np.save(r'C:\\Users\\user\\Desktop\\학술대회 2차\\벡터\\sbert_sen_middle.npy', description_middle)"
   ]
  },
  {
   "cell_type": "code",
   "execution_count": 11,
   "metadata": {},
   "outputs": [],
   "source": [
    "np.save(r'C:\\Users\\user\\Desktop\\학술대회 2차\\벡터\\sbert_voc_low.npy', word_low)\n",
    "np.save(r'C:\\Users\\user\\Desktop\\학술대회 2차\\벡터\\sbert_sen_low.npy', description_low)"
   ]
  },
  {
   "cell_type": "code",
   "execution_count": 17,
   "metadata": {},
   "outputs": [],
   "source": [
    "word = model.encode(df['단어이름'][:])\n",
    "description = model.encode(df['단어 설명'][:])"
   ]
  },
  {
   "cell_type": "code",
   "execution_count": 18,
   "metadata": {},
   "outputs": [],
   "source": [
    "np.save(r'C:\\Users\\user\\Desktop\\학술대회 2차\\벡터\\sbert_embed_voc.npy', word)\n",
    "np.save(r'C:\\Users\\user\\Desktop\\학술대회 2차\\벡터\\sbert_embed_sen.npy', description)"
   ]
  }
 ],
 "metadata": {
  "kernelspec": {
   "display_name": "PY39_",
   "language": "python",
   "name": "python3"
  },
  "language_info": {
   "codemirror_mode": {
    "name": "ipython",
    "version": 3
   },
   "file_extension": ".py",
   "mimetype": "text/x-python",
   "name": "python",
   "nbconvert_exporter": "python",
   "pygments_lexer": "ipython3",
   "version": "3.9.16"
  },
  "orig_nbformat": 4
 },
 "nbformat": 4,
 "nbformat_minor": 2
}
