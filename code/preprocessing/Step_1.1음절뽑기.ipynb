{
 "cells": [
  {
   "cell_type": "code",
   "execution_count": 1,
   "metadata": {},
   "outputs": [],
   "source": [
    "from tqdm import tqdm\n",
    "import pandas as pd\n",
    "import numpy as np\n",
    "from transformers import BertTokenizer, BertModel\n",
    "import transformers\n",
    "import torch\n",
    "import os\n",
    "import nltk\n",
    "import re\n",
    "\n",
    "from tqdm import tqdm\n",
    "tqdm.pandas()"
   ]
  },
  {
   "cell_type": "code",
   "execution_count": 3,
   "metadata": {},
   "outputs": [],
   "source": [
    "data = pd.read_excel(r\"C:\\Users\\user\\Desktop\\학술대회 2차\\데이터\\관세용어사전_전처리.xlsx\", index_col = 0)"
   ]
  },
  {
   "cell_type": "code",
   "execution_count": 20,
   "metadata": {},
   "outputs": [
    {
     "data": {
      "text/html": [
       "<div>\n",
       "<style scoped>\n",
       "    .dataframe tbody tr th:only-of-type {\n",
       "        vertical-align: middle;\n",
       "    }\n",
       "\n",
       "    .dataframe tbody tr th {\n",
       "        vertical-align: top;\n",
       "    }\n",
       "\n",
       "    .dataframe thead th {\n",
       "        text-align: right;\n",
       "    }\n",
       "</style>\n",
       "<table border=\"1\" class=\"dataframe\">\n",
       "  <thead>\n",
       "    <tr style=\"text-align: right;\">\n",
       "      <th></th>\n",
       "      <th>단어이름</th>\n",
       "      <th>단어 설명</th>\n",
       "    </tr>\n",
       "  </thead>\n",
       "  <tbody>\n",
       "    <tr>\n",
       "      <th>0</th>\n",
       "      <td>인터넷 네트워크 정보센터</td>\n",
       "      <td>인터넷 관련 자원과 정보의 관리를 행하는 기관 각국에 네트워크 정보 센터가 있으며 ...</td>\n",
       "    </tr>\n",
       "    <tr>\n",
       "      <th>1</th>\n",
       "      <td>현실전손</td>\n",
       "      <td>절대전손 이라고도 하며 화물이 현실로 전손된 경우 또는 그 점유가 박탈되어 회복할 ...</td>\n",
       "    </tr>\n",
       "    <tr>\n",
       "      <th>2</th>\n",
       "      <td>국경 내 장벽</td>\n",
       "      <td>관세나 비관세장벽과 같은 국경 간 장벽은 아니나 차적으로 국내경제를 위해 채택하지만...</td>\n",
       "    </tr>\n",
       "    <tr>\n",
       "      <th>3</th>\n",
       "      <td>내항능력</td>\n",
       "      <td>선박이 그 운항을 마치기 위하여 선체 기관 속구를 완비하고 필요한 승무원을 배치하고...</td>\n",
       "    </tr>\n",
       "    <tr>\n",
       "      <th>4</th>\n",
       "      <td>간이 입출항절차</td>\n",
       "      <td>외국무역선기이 개항에 입항하여 물품을 하역하지 않고 입항한 때로부터 시간이 내출항하...</td>\n",
       "    </tr>\n",
       "    <tr>\n",
       "      <th>...</th>\n",
       "      <td>...</td>\n",
       "      <td>...</td>\n",
       "    </tr>\n",
       "    <tr>\n",
       "      <th>4884</th>\n",
       "      <td>대사관물품</td>\n",
       "      <td>외교공관에 쓰여지는 각종 비품 및 설비등으로 관세법상 면책의 특권이 인정되는 물품</td>\n",
       "    </tr>\n",
       "    <tr>\n",
       "      <th>4885</th>\n",
       "      <td>견품반출</td>\n",
       "      <td>보세구역에 장치된 외국물품을 검사 확인용 등의 목적으로 일시보세구역 밖으로 반출하는 행위</td>\n",
       "    </tr>\n",
       "    <tr>\n",
       "      <th>4886</th>\n",
       "      <td>일괄보험료율</td>\n",
       "      <td>보험에 있어 보험대상인 재산이 여럿인 경우 선박 전체를 통틀어 적용되는 하나의 보험료율</td>\n",
       "    </tr>\n",
       "    <tr>\n",
       "      <th>4887</th>\n",
       "      <td>우담수손</td>\n",
       "      <td>해수손 에 대비되는 말로서 염분이 섞여 있지 않은 담수손을 말함 화물이 운송중 장치...</td>\n",
       "    </tr>\n",
       "    <tr>\n",
       "      <th>4888</th>\n",
       "      <td>공개입찰</td>\n",
       "      <td>이라고도 함 당해 프로젝트에 입찰할 의향을 갖고 있는 모든 업자에게 입찰의 기회를 ...</td>\n",
       "    </tr>\n",
       "  </tbody>\n",
       "</table>\n",
       "<p>4889 rows × 2 columns</p>\n",
       "</div>"
      ],
      "text/plain": [
       "               단어이름                                              단어 설명\n",
       "0     인터넷 네트워크 정보센터  인터넷 관련 자원과 정보의 관리를 행하는 기관 각국에 네트워크 정보 센터가 있으며 ...\n",
       "1              현실전손  절대전손 이라고도 하며 화물이 현실로 전손된 경우 또는 그 점유가 박탈되어 회복할 ...\n",
       "2           국경 내 장벽  관세나 비관세장벽과 같은 국경 간 장벽은 아니나 차적으로 국내경제를 위해 채택하지만...\n",
       "3              내항능력  선박이 그 운항을 마치기 위하여 선체 기관 속구를 완비하고 필요한 승무원을 배치하고...\n",
       "4          간이 입출항절차  외국무역선기이 개항에 입항하여 물품을 하역하지 않고 입항한 때로부터 시간이 내출항하...\n",
       "...             ...                                                ...\n",
       "4884          대사관물품      외교공관에 쓰여지는 각종 비품 및 설비등으로 관세법상 면책의 특권이 인정되는 물품\n",
       "4885           견품반출  보세구역에 장치된 외국물품을 검사 확인용 등의 목적으로 일시보세구역 밖으로 반출하는 행위\n",
       "4886         일괄보험료율   보험에 있어 보험대상인 재산이 여럿인 경우 선박 전체를 통틀어 적용되는 하나의 보험료율\n",
       "4887           우담수손  해수손 에 대비되는 말로서 염분이 섞여 있지 않은 담수손을 말함 화물이 운송중 장치...\n",
       "4888           공개입찰  이라고도 함 당해 프로젝트에 입찰할 의향을 갖고 있는 모든 업자에게 입찰의 기회를 ...\n",
       "\n",
       "[4889 rows x 2 columns]"
      ]
     },
     "execution_count": 20,
     "metadata": {},
     "output_type": "execute_result"
    }
   ],
   "source": [
    "data"
   ]
  },
  {
   "cell_type": "code",
   "execution_count": 29,
   "metadata": {},
   "outputs": [],
   "source": [
    "data2 = pd.read_excel(r\"C:\\Users\\user\\Desktop\\학술대회 2차\\데이터\\관세용어사전_전처리_민아.xlsx\", index_col = 0)"
   ]
  },
  {
   "cell_type": "code",
   "execution_count": 30,
   "metadata": {},
   "outputs": [
    {
     "data": {
      "text/html": [
       "<div>\n",
       "<style scoped>\n",
       "    .dataframe tbody tr th:only-of-type {\n",
       "        vertical-align: middle;\n",
       "    }\n",
       "\n",
       "    .dataframe tbody tr th {\n",
       "        vertical-align: top;\n",
       "    }\n",
       "\n",
       "    .dataframe thead th {\n",
       "        text-align: right;\n",
       "    }\n",
       "</style>\n",
       "<table border=\"1\" class=\"dataframe\">\n",
       "  <thead>\n",
       "    <tr style=\"text-align: right;\">\n",
       "      <th></th>\n",
       "    </tr>\n",
       "    <tr>\n",
       "      <th>단어이름</th>\n",
       "    </tr>\n",
       "  </thead>\n",
       "  <tbody>\n",
       "    <tr>\n",
       "      <th>현실전손</th>\n",
       "    </tr>\n",
       "    <tr>\n",
       "      <th>내항능력</th>\n",
       "    </tr>\n",
       "    <tr>\n",
       "      <th>통선</th>\n",
       "    </tr>\n",
       "    <tr>\n",
       "      <th>가서명</th>\n",
       "    </tr>\n",
       "    <tr>\n",
       "      <th>지급가능</th>\n",
       "    </tr>\n",
       "    <tr>\n",
       "      <th>...</th>\n",
       "    </tr>\n",
       "    <tr>\n",
       "      <th>대사관물품</th>\n",
       "    </tr>\n",
       "    <tr>\n",
       "      <th>견품반출</th>\n",
       "    </tr>\n",
       "    <tr>\n",
       "      <th>일괄보험료율</th>\n",
       "    </tr>\n",
       "    <tr>\n",
       "      <th>우담수손</th>\n",
       "    </tr>\n",
       "    <tr>\n",
       "      <th>공개입찰</th>\n",
       "    </tr>\n",
       "  </tbody>\n",
       "</table>\n",
       "<p>3320 rows × 0 columns</p>\n",
       "</div>"
      ],
      "text/plain": [
       "Empty DataFrame\n",
       "Columns: []\n",
       "Index: [현실전손, 내항능력, 통선, 가서명, 지급가능, 무확약청약, 증명서매매, 상여금, 칼라, 반송, 감정, 직업용품, 실용신안권, 무역장벽규정, 화물, 선박보험, 실무그룹, 세관기재란, 하선신고, 최저요금, 정리창고, 긴급수리용품, 기간, 양하기, 사후정산, 회전신용편의, 상환청구권, 가변부과금, 봉인, 상업송장, 화물운임적용중량, 보험자, 오픈차터, 적지매매, 케네디라운드, 보험승락서, 일반면책약관, 반입정지, 로마협약, 조어음, 전세서비스, 협회적하약관, 재수입면세, 벌크선, 수색, 자가인수, 상실시간약관, 용선계약, 현물가격, 담수손, 화물혼재사업자, 투명성, 확정가격, 위험분석, 직접무역, 공동행위, 공시송달, 담당자, 다중민간이용시설, 상용견품, 창고증권, 양륙상위, 간이보세운송, 우편기일이자, 선박보험증권, 투자진흥지구, 상환어음, 관세환급, 유사물품, 예선료, 준용, 존속기간, 대세적, 당좌예금, 쥐해충, 내국운송신고, nan, 신고제도, 항외하역, 수출관리, 수출입의제, 수입화물대도, 유한책임, 무역투자진흥회의, 관세평가재심, 순선주, 보통신용장, 소요량계산서, 분할선적금지, 현물인도, 용도설명서, 관세계좌이체납부제도, 사전경험, 수량클레임, 판매한도, 매입, 곡손, 순톤수, 제조장소, 예상이익, ...]\n",
       "\n",
       "[3320 rows x 0 columns]"
      ]
     },
     "execution_count": 30,
     "metadata": {},
     "output_type": "execute_result"
    }
   ],
   "source": [
    "data2"
   ]
  },
  {
   "cell_type": "code",
   "execution_count": null,
   "metadata": {},
   "outputs": [],
   "source": []
  },
  {
   "cell_type": "code",
   "execution_count": 28,
   "metadata": {},
   "outputs": [
    {
     "data": {
      "text/plain": [
       "0       인터넷 네트워크 정보센터\n",
       "1                현실전손\n",
       "2             국경 내 장벽\n",
       "3                내항능력\n",
       "4            간이 입출항절차\n",
       "            ...      \n",
       "4884            대사관물품\n",
       "4885             견품반출\n",
       "4886           일괄보험료율\n",
       "4887             우담수손\n",
       "4888             공개입찰\n",
       "Name: 단어이름, Length: 4889, dtype: object"
      ]
     },
     "execution_count": 28,
     "metadata": {},
     "output_type": "execute_result"
    }
   ],
   "source": [
    "data_word = data[\"단어이름\"]\n",
    "data_word"
   ]
  },
  {
   "cell_type": "code",
   "execution_count": 31,
   "metadata": {},
   "outputs": [
    {
     "ename": "KeyError",
     "evalue": "'userId'",
     "output_type": "error",
     "traceback": [
      "\u001b[1;31m---------------------------------------------------------------------------\u001b[0m",
      "\u001b[1;31mKeyError\u001b[0m                                  Traceback (most recent call last)",
      "Cell \u001b[1;32mIn[31], line 1\u001b[0m\n\u001b[1;32m----> 1\u001b[0m data_word_f \u001b[39m=\u001b[39m pd\u001b[39m.\u001b[39;49mmerge(data_word, data2, on\u001b[39m=\u001b[39;49m\u001b[39m'\u001b[39;49m\u001b[39muserId\u001b[39;49m\u001b[39m'\u001b[39;49m, how\u001b[39m=\u001b[39;49m\u001b[39m'\u001b[39;49m\u001b[39minner\u001b[39;49m\u001b[39m'\u001b[39;49m)\n\u001b[0;32m      2\u001b[0m data_word_f\n",
      "File \u001b[1;32mc:\\Users\\user\\anaconda3\\envs\\PY39_\\lib\\site-packages\\pandas\\core\\reshape\\merge.py:110\u001b[0m, in \u001b[0;36mmerge\u001b[1;34m(left, right, how, on, left_on, right_on, left_index, right_index, sort, suffixes, copy, indicator, validate)\u001b[0m\n\u001b[0;32m     93\u001b[0m \u001b[39m@Substitution\u001b[39m(\u001b[39m\"\u001b[39m\u001b[39m\\n\u001b[39;00m\u001b[39mleft : DataFrame or named Series\u001b[39m\u001b[39m\"\u001b[39m)\n\u001b[0;32m     94\u001b[0m \u001b[39m@Appender\u001b[39m(_merge_doc, indents\u001b[39m=\u001b[39m\u001b[39m0\u001b[39m)\n\u001b[0;32m     95\u001b[0m \u001b[39mdef\u001b[39;00m \u001b[39mmerge\u001b[39m(\n\u001b[1;32m   (...)\u001b[0m\n\u001b[0;32m    108\u001b[0m     validate: \u001b[39mstr\u001b[39m \u001b[39m|\u001b[39m \u001b[39mNone\u001b[39;00m \u001b[39m=\u001b[39m \u001b[39mNone\u001b[39;00m,\n\u001b[0;32m    109\u001b[0m ) \u001b[39m-\u001b[39m\u001b[39m>\u001b[39m DataFrame:\n\u001b[1;32m--> 110\u001b[0m     op \u001b[39m=\u001b[39m _MergeOperation(\n\u001b[0;32m    111\u001b[0m         left,\n\u001b[0;32m    112\u001b[0m         right,\n\u001b[0;32m    113\u001b[0m         how\u001b[39m=\u001b[39;49mhow,\n\u001b[0;32m    114\u001b[0m         on\u001b[39m=\u001b[39;49mon,\n\u001b[0;32m    115\u001b[0m         left_on\u001b[39m=\u001b[39;49mleft_on,\n\u001b[0;32m    116\u001b[0m         right_on\u001b[39m=\u001b[39;49mright_on,\n\u001b[0;32m    117\u001b[0m         left_index\u001b[39m=\u001b[39;49mleft_index,\n\u001b[0;32m    118\u001b[0m         right_index\u001b[39m=\u001b[39;49mright_index,\n\u001b[0;32m    119\u001b[0m         sort\u001b[39m=\u001b[39;49msort,\n\u001b[0;32m    120\u001b[0m         suffixes\u001b[39m=\u001b[39;49msuffixes,\n\u001b[0;32m    121\u001b[0m         indicator\u001b[39m=\u001b[39;49mindicator,\n\u001b[0;32m    122\u001b[0m         validate\u001b[39m=\u001b[39;49mvalidate,\n\u001b[0;32m    123\u001b[0m     )\n\u001b[0;32m    124\u001b[0m     \u001b[39mreturn\u001b[39;00m op\u001b[39m.\u001b[39mget_result(copy\u001b[39m=\u001b[39mcopy)\n",
      "File \u001b[1;32mc:\\Users\\user\\anaconda3\\envs\\PY39_\\lib\\site-packages\\pandas\\core\\reshape\\merge.py:703\u001b[0m, in \u001b[0;36m_MergeOperation.__init__\u001b[1;34m(self, left, right, how, on, left_on, right_on, axis, left_index, right_index, sort, suffixes, indicator, validate)\u001b[0m\n\u001b[0;32m    696\u001b[0m \u001b[39mself\u001b[39m\u001b[39m.\u001b[39m_cross \u001b[39m=\u001b[39m cross_col\n\u001b[0;32m    698\u001b[0m \u001b[39m# note this function has side effects\u001b[39;00m\n\u001b[0;32m    699\u001b[0m (\n\u001b[0;32m    700\u001b[0m     \u001b[39mself\u001b[39m\u001b[39m.\u001b[39mleft_join_keys,\n\u001b[0;32m    701\u001b[0m     \u001b[39mself\u001b[39m\u001b[39m.\u001b[39mright_join_keys,\n\u001b[0;32m    702\u001b[0m     \u001b[39mself\u001b[39m\u001b[39m.\u001b[39mjoin_names,\n\u001b[1;32m--> 703\u001b[0m ) \u001b[39m=\u001b[39m \u001b[39mself\u001b[39;49m\u001b[39m.\u001b[39;49m_get_merge_keys()\n\u001b[0;32m    705\u001b[0m \u001b[39m# validate the merge keys dtypes. We may need to coerce\u001b[39;00m\n\u001b[0;32m    706\u001b[0m \u001b[39m# to avoid incompatible dtypes\u001b[39;00m\n\u001b[0;32m    707\u001b[0m \u001b[39mself\u001b[39m\u001b[39m.\u001b[39m_maybe_coerce_merge_keys()\n",
      "File \u001b[1;32mc:\\Users\\user\\anaconda3\\envs\\PY39_\\lib\\site-packages\\pandas\\core\\reshape\\merge.py:1162\u001b[0m, in \u001b[0;36m_MergeOperation._get_merge_keys\u001b[1;34m(self)\u001b[0m\n\u001b[0;32m   1160\u001b[0m rk \u001b[39m=\u001b[39m cast(Hashable, rk)\n\u001b[0;32m   1161\u001b[0m \u001b[39mif\u001b[39;00m rk \u001b[39mis\u001b[39;00m \u001b[39mnot\u001b[39;00m \u001b[39mNone\u001b[39;00m:\n\u001b[1;32m-> 1162\u001b[0m     right_keys\u001b[39m.\u001b[39mappend(right\u001b[39m.\u001b[39;49m_get_label_or_level_values(rk))\n\u001b[0;32m   1163\u001b[0m \u001b[39melse\u001b[39;00m:\n\u001b[0;32m   1164\u001b[0m     \u001b[39m# work-around for merge_asof(right_index=True)\u001b[39;00m\n\u001b[0;32m   1165\u001b[0m     right_keys\u001b[39m.\u001b[39mappend(right\u001b[39m.\u001b[39mindex)\n",
      "File \u001b[1;32mc:\\Users\\user\\anaconda3\\envs\\PY39_\\lib\\site-packages\\pandas\\core\\generic.py:1850\u001b[0m, in \u001b[0;36mNDFrame._get_label_or_level_values\u001b[1;34m(self, key, axis)\u001b[0m\n\u001b[0;32m   1844\u001b[0m     values \u001b[39m=\u001b[39m (\n\u001b[0;32m   1845\u001b[0m         \u001b[39mself\u001b[39m\u001b[39m.\u001b[39maxes[axis]\n\u001b[0;32m   1846\u001b[0m         \u001b[39m.\u001b[39mget_level_values(key)  \u001b[39m# type: ignore[assignment]\u001b[39;00m\n\u001b[0;32m   1847\u001b[0m         \u001b[39m.\u001b[39m_values\n\u001b[0;32m   1848\u001b[0m     )\n\u001b[0;32m   1849\u001b[0m \u001b[39melse\u001b[39;00m:\n\u001b[1;32m-> 1850\u001b[0m     \u001b[39mraise\u001b[39;00m \u001b[39mKeyError\u001b[39;00m(key)\n\u001b[0;32m   1852\u001b[0m \u001b[39m# Check for duplicates\u001b[39;00m\n\u001b[0;32m   1853\u001b[0m \u001b[39mif\u001b[39;00m values\u001b[39m.\u001b[39mndim \u001b[39m>\u001b[39m \u001b[39m1\u001b[39m:\n",
      "\u001b[1;31mKeyError\u001b[0m: 'userId'"
     ]
    }
   ],
   "source": [
    "data_word_f = pd.merge(data_word, data2, on='userId', how='inner')\n",
    "data_word_f"
   ]
  },
  {
   "cell_type": "code",
   "execution_count": null,
   "metadata": {},
   "outputs": [],
   "source": []
  }
 ],
 "metadata": {
  "kernelspec": {
   "display_name": "PY39_",
   "language": "python",
   "name": "python3"
  },
  "language_info": {
   "codemirror_mode": {
    "name": "ipython",
    "version": 3
   },
   "file_extension": ".py",
   "mimetype": "text/x-python",
   "name": "python",
   "nbconvert_exporter": "python",
   "pygments_lexer": "ipython3",
   "version": "3.9.16"
  },
  "orig_nbformat": 4
 },
 "nbformat": 4,
 "nbformat_minor": 2
}
